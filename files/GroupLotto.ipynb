{
 "cells": [
  {
   "cell_type": "code",
   "execution_count": 1,
   "metadata": {},
   "outputs": [],
   "source": [
    "import numpy as np"
   ]
  },
  {
   "cell_type": "code",
   "execution_count": 2,
   "metadata": {},
   "outputs": [],
   "source": [
    "n_selected = 150.\n",
    "n_total = 400.\n",
    "n_group = 5."
   ]
  },
  {
   "cell_type": "code",
   "execution_count": 3,
   "metadata": {},
   "outputs": [],
   "source": [
    "# The dumb way\n",
    "p_single = n_selected / n_total\n",
    "\n",
    "# Check the method I will use for groups\n",
    "# fencepost\n",
    "prob_each_pick = [1. / n_total]\n",
    "\n",
    "# each of the rest of the picks\n",
    "for i in range(2, int(n_selected) + 1):\n",
    "    prob_each_pick.append((1. - sum(prob_each_pick)) / (n_total - i + 1))\n",
    "p_single_otherway = sum(prob_each_pick)\n",
    "\n",
    "# Make sure it worked to about machine precision\n",
    "assert (p_single - p_single_otherway) / p_single < 1.0e-12"
   ]
  },
  {
   "cell_type": "code",
   "execution_count": 4,
   "metadata": {},
   "outputs": [],
   "source": [
    "# Groups\n",
    "n_entrants_in_lotto = n_total - n_group + 1\n",
    "\n",
    "#slightly higher probability per pick\n",
    "prob_each_pick_group = [1. / n_entrants_in_lotto]\n",
    "for i in range(2, int(n_selected) - (int(n_group) - 1) + 1):\n",
    "    # prob not picked so far times prob picked this time\n",
    "    prob_each_pick_group.append((1. - sum(prob_each_pick_group)) / (n_entrants_in_lotto - i + 1))\n",
    "p_group = sum(prob_each_pick_group)\n"
   ]
  },
  {
   "cell_type": "code",
   "execution_count": 5,
   "metadata": {},
   "outputs": [
    {
     "name": "stdout",
     "output_type": "stream",
     "text": [
      "0.375 0.36868686868686895\n",
      "Single for life\n"
     ]
    }
   ],
   "source": [
    "print(p_single, p_group)\n",
    "if p_single > p_group:\n",
    "    print('Single for life')\n",
    "else:\n",
    "    print('BFFs forever')"
   ]
  },
  {
   "cell_type": "code",
   "execution_count": null,
   "metadata": {},
   "outputs": [],
   "source": []
  }
 ],
 "metadata": {
  "kernelspec": {
   "display_name": "Python 3",
   "language": "python",
   "name": "python3"
  },
  "language_info": {
   "codemirror_mode": {
    "name": "ipython",
    "version": 3
   },
   "file_extension": ".py",
   "mimetype": "text/x-python",
   "name": "python",
   "nbconvert_exporter": "python",
   "pygments_lexer": "ipython3",
   "version": "3.7.0"
  }
 },
 "nbformat": 4,
 "nbformat_minor": 2
}
